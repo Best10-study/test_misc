{
  "nbformat": 4,
  "nbformat_minor": 0,
  "metadata": {
    "colab": {
      "name": "colab_markdown_test.ipynb",
      "version": "0.3.2",
      "provenance": [],
      "collapsed_sections": [],
      "include_colab_link": true
    },
    "kernelspec": {
      "name": "python3",
      "display_name": "Python 3"
    }
  },
  "cells": [
    {
      "cell_type": "markdown",
      "metadata": {
        "id": "view-in-github",
        "colab_type": "text"
      },
      "source": [
        "<a href=\"https://colab.research.google.com/github/Best10-study/test_misc/blob/master/colab_markdown_test.ipynb\" target=\"_parent\"><img src=\"https://colab.research.google.com/assets/colab-badge.svg\" alt=\"Open In Colab\"/></a>"
      ]
    },
    {
      "metadata": {
        "id": "ZE_gCFL0PtB2",
        "colab_type": "text"
      },
      "cell_type": "markdown",
      "source": [
        "<a href=\"https://ibb.co/B34XZt8\"><img src=\"https://i.ibb.co/MS8YVsq/2019-02-21-1-09-10.png\" alt=\"2019-02-21-1-09-10\" border=\"0\"></a>"
      ]
    },
    {
      "metadata": {
        "id": "TjV9dVlWpBKN",
        "colab_type": "code",
        "colab": {
          "base_uri": "https://localhost:8080/",
          "height": 175
        },
        "cellView": "form",
        "outputId": "530df5ee-1bb3-43fd-8be8-dd2b4cb2f057"
      },
      "cell_type": "code",
      "source": [
        "#@title\n",
        "%%html\n",
        "\n",
        "<div style = \"background-color : rgba(0, 0, 0, 0.05); border:0.5px solid; padding : 20px\">\n",
        "    <h1> II. Python의 변수와 자료구조 </h1>\n",
        "    <h2> XX XX은행 Deep learning 교육 </h2>\n",
        "2019/01/26 (sat)\n",
        "</div>"
      ],
      "execution_count": 13,
      "outputs": [
        {
          "output_type": "display_data",
          "data": {
            "text/html": [
              "\n",
              "<div style = \"background-color : rgba(0, 0, 0, 0.05); border:0.5px solid; padding : 20px\">\n",
              "    <h1> II. Python의 변수와 자료구조 </h1>\n",
              "    <h2> XX XX은행 Deep learning 교육 </h2>\n",
              "2019/01/26 (sat)\n",
              "</div>"
            ],
            "text/plain": [
              "<IPython.core.display.HTML object>"
            ]
          },
          "metadata": {
            "tags": []
          }
        }
      ]
    },
    {
      "metadata": {
        "id": "8MB2vraZvGo_",
        "colab_type": "text"
      },
      "cell_type": "markdown",
      "source": [
        "<h1 style = \"background-color: rgba(185, 109, 106, 0.1); padding : 15px\">  I. Python의 변수 </h1>\n",
        "\n",
        "<h3> 설명설명 </h3>\n",
        "\n",
        "<progress value=\"1\" max=\"30\"></progress> 1p / 30p\n",
        "<progress value=\"2\" max=\"30\"></progress> 2p / 30p"
      ]
    },
    {
      "metadata": {
        "id": "OCUUpNUzvYB-",
        "colab_type": "code",
        "colab": {}
      },
      "cell_type": "code",
      "source": [
        ""
      ],
      "execution_count": 0,
      "outputs": []
    },
    {
      "metadata": {
        "id": "7LPAUwI1MfPk",
        "colab_type": "text"
      },
      "cell_type": "markdown",
      "source": [
        ""
      ]
    },
    {
      "metadata": {
        "id": "wSaJwRqKpLeS",
        "colab_type": "code",
        "colab": {
          "base_uri": "https://localhost:8080/",
          "height": 119
        },
        "cellView": "form",
        "outputId": "ac949f3b-08d6-472e-cb5d-5b9b0f6176b6"
      },
      "cell_type": "code",
      "source": [
        "#@title\n",
        "%%html\n",
        "\n",
        "<hr>\n",
        "<div style = \"background-image: url('https://algorithmai.io/static/media/logo.665798c4.png');background-repeat: no-repeat; background-position: right; background-size: 220px 40px; margin: 20px 200px 20px 20px; padding : 5px 10px 5px 5px;\">\n",
        "    Copyright(c) 2019 by Public AI. All rights reserved.<br>\n",
        "    Writen by PAI, SeonYoul Choi ( Best10@publicai.co.kr )  last updated on 2019/02/21\n",
        "</div>\n",
        "<hr>"
      ],
      "execution_count": 15,
      "outputs": [
        {
          "output_type": "display_data",
          "data": {
            "text/html": [
              "\n",
              "<hr>\n",
              "<div style = \"background-image: url('https://algorithmai.io/static/media/logo.665798c4.png');background-repeat: no-repeat; background-position: right; background-size: 220px 40px; margin: 20px 200px 20px 20px; padding : 5px 10px 5px 5px;\">\n",
              "    Copyright(c) 2019 by Public AI. All rights reserved.<br>\n",
              "    Writen by PAI, SeonYoul Choi ( Best10@publicai.co.kr )  last updated on 2019/02/21\n",
              "</div>\n",
              "<hr>"
            ],
            "text/plain": [
              "<IPython.core.display.HTML object>"
            ]
          },
          "metadata": {
            "tags": []
          }
        }
      ]
    },
    {
      "metadata": {
        "colab_type": "code",
        "id": "3Ooo44y-vjQv",
        "colab": {
          "base_uri": "https://localhost:8080/",
          "height": 119
        },
        "outputId": "6236b75b-1446-446a-91a2-85680dcb86d8"
      },
      "cell_type": "code",
      "source": [
        "#@title\n",
        "%%html\n",
        "\n",
        "<hr>\n",
        "<div style = \"background-image: url('https://algorithmai.io/static/media/logo.665798c4.png'); background-repeat: no-repeat; background-position: right; background-size: 220px 40px; margin: 20px 200px 20px 20px; padding : 5px 10px 5px 5px;\">\n",
        "    Copyright(c) 2019 by Public AI. All rights reserved.<br>\n",
        "    Writen by PAI, SeonYoul Choi ( Best10@publicai.co.kr )  last updated on 2019/02/21\n",
        "</div>\n",
        "<hr>"
      ],
      "execution_count": 16,
      "outputs": [
        {
          "output_type": "display_data",
          "data": {
            "text/html": [
              "\n",
              "<hr>\n",
              "<div style = \"background-image: url('https://algorithmai.io/static/media/logo.665798c4.png');background-repeat: no-repeat; background-position: right; background-size: 220px 40px; margin: 20px 200px 20px 20px; padding : 5px 10px 5px 5px;\">\n",
              "    Copyright(c) 2019 by Public AI. All rights reserved.<br>\n",
              "    Writen by PAI, SeonYoul Choi ( Best10@publicai.co.kr )  last updated on 2019/02/21\n",
              "</div>\n",
              "<hr>"
            ],
            "text/plain": [
              "<IPython.core.display.HTML object>"
            ]
          },
          "metadata": {
            "tags": []
          }
        }
      ]
    },
    {
      "metadata": {
        "id": "hQSwlyX9vkKC",
        "colab_type": "text"
      },
      "cell_type": "markdown",
      "source": [
        "<hr>\n",
        "<div style = \"background-image: url('https://algorithmai.io/static/media/logo.665798c4.png');background-repeat: no-repeat; background-position: right; background-size: 220px 40px; margin: 20px 200px 20px 20px; padding : 5px 10px 5px 5px;\">\n",
        "    Copyright(c) 2019 by Public AI. All rights reserved.<br>\n",
        "    Writen by PAI, SeonYoul Choi ( Best10@publicai.co.kr )  last updated on 2019/02/21\n",
        "</div>\n",
        "<hr>"
      ]
    },
    {
      "metadata": {
        "id": "qbdUZFJ4w8LQ",
        "colab_type": "text"
      },
      "cell_type": "markdown",
      "source": [
        "<h1> 원래 github에서는 Ipython 파일에서 markdown cell 내에 html 태그를 달아도 인식을 못하는건가? 하...</h1>\n",
        "\n",
        "CSS 만 안되는 거였나?\n",
        "\n",
        "<h1 style = \"background-color : rgba(0, 0, 0, 0.05); border:0.5px solid; padding : 20px;\"> 되나 안되나 한번 보자 </h1>\n",
        "\n",
        "<h1 style = \"background-color : rgb(41, 41, 41);\"> 되나 안되나 한번 보자 </h1>"
      ]
    },
    {
      "metadata": {
        "id": "COCCUjY-xGlo",
        "colab_type": "text"
      },
      "cell_type": "markdown",
      "source": [
        "-[ ] 이것도 되나"
      ]
    },
    {
      "metadata": {
        "id": "DxtAwaDfHnlA",
        "colab_type": "text"
      },
      "cell_type": "markdown",
      "source": [
        "- [x] Finish my changes\n",
        "- [ ] Push my commits to GitHub\n",
        "- [ ] Open a pull request"
      ]
    },
    {
      "metadata": {
        "id": "PgbHgHKyIcvf",
        "colab_type": "text"
      },
      "cell_type": "markdown",
      "source": [
        "<button type=\"button\" class=\"btn btn-primary\">Primary</button>\n",
        "<button type=\"button\" class=\"btn btn-secondary\">Secondary</button>\n",
        "<button type=\"button\" class=\"btn btn-success\">Success</button>\n",
        "<button type=\"button\" class=\"btn btn-danger\">Danger</button>\n",
        "<button type=\"button\" class=\"btn btn-warning\">Warning</button>\n",
        "<button type=\"button\" class=\"btn btn-info\">Info</button>\n",
        "<button type=\"button\" class=\"btn btn-light\">Light</button>\n",
        "<button type=\"button\" class=\"btn btn-dark\">Dark</button>\n",
        "\n",
        "<button type=\"button\" class=\"btn btn-link\">Link</button>"
      ]
    },
    {
      "metadata": {
        "id": "VVoSbUh5KQxx",
        "colab_type": "text"
      },
      "cell_type": "markdown",
      "source": [
        "이미지로 설명은 어디깢?![대체 텍스트](https://media.giphy.com/media/TJ8CRsQVcB2151DwP2/giphy.gif)"
      ]
    },
    {
      "metadata": {
        "id": "KHSqIPOYNxvj",
        "colab_type": "code",
        "colab": {}
      },
      "cell_type": "code",
      "source": [
        ""
      ],
      "execution_count": 0,
      "outputs": []
    }
  ]
}