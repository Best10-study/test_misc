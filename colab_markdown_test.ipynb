{
  "nbformat": 4,
  "nbformat_minor": 0,
  "metadata": {
    "colab": {
      "name": "colab_markdown_test.ipynb",
      "version": "0.3.2",
      "provenance": [],
      "collapsed_sections": [],
      "include_colab_link": true
    },
    "kernelspec": {
      "name": "python3",
      "display_name": "Python 3"
    }
  },
  "cells": [
    {
      "cell_type": "markdown",
      "metadata": {
        "id": "view-in-github",
        "colab_type": "text"
      },
      "source": [
        "<a href=\"https://colab.research.google.com/github/Best10-study/test_misc/blob/master/colab_markdown_test.ipynb\" target=\"_parent\"><img src=\"https://colab.research.google.com/assets/colab-badge.svg\" alt=\"Open In Colab\"/></a>"
      ]
    },
    {
      "metadata": {
        "id": "TjV9dVlWpBKN",
        "colab_type": "code",
        "colab": {
          "base_uri": "https://localhost:8080/",
          "height": 175
        },
        "cellView": "form",
        "outputId": "530df5ee-1bb3-43fd-8be8-dd2b4cb2f057"
      },
      "cell_type": "code",
      "source": [
        "#@title\n",
        "%%html\n",
        "\n",
        "<div style = \"background-color : rgba(0, 0, 0, 0.05); border:0.5px solid; padding : 20px\">\n",
        "    <h1> II. Python의 변수와 자료구조 </h1>\n",
        "    <h2> XX XX은행 Deep learning 교육 </h2>\n",
        "2019/01/26 (sat)\n",
        "</div>"
      ],
      "execution_count": 13,
      "outputs": [
        {
          "output_type": "display_data",
          "data": {
            "text/html": [
              "\n",
              "<div style = \"background-color : rgba(0, 0, 0, 0.05); border:0.5px solid; padding : 20px\">\n",
              "    <h1> II. Python의 변수와 자료구조 </h1>\n",
              "    <h2> XX XX은행 Deep learning 교육 </h2>\n",
              "2019/01/26 (sat)\n",
              "</div>"
            ],
            "text/plain": [
              "<IPython.core.display.HTML object>"
            ]
          },
          "metadata": {
            "tags": []
          }
        }
      ]
    },
    {
      "metadata": {
        "id": "8MB2vraZvGo_",
        "colab_type": "text"
      },
      "cell_type": "markdown",
      "source": [
        "<h1 style = \"background-color: rgba(185, 109, 106, 0.1); padding : 15px\">  I. Python의 변수 </h1>\n",
        "\n",
        "<h3> 설명설명 </h3>"
      ]
    },
    {
      "metadata": {
        "id": "OCUUpNUzvYB-",
        "colab_type": "code",
        "colab": {}
      },
      "cell_type": "code",
      "source": [
        ""
      ],
      "execution_count": 0,
      "outputs": []
    },
    {
      "metadata": {
        "id": "wSaJwRqKpLeS",
        "colab_type": "code",
        "colab": {
          "base_uri": "https://localhost:8080/",
          "height": 119
        },
        "cellView": "form",
        "outputId": "ac949f3b-08d6-472e-cb5d-5b9b0f6176b6"
      },
      "cell_type": "code",
      "source": [
        "#@title\n",
        "%%html\n",
        "\n",
        "<hr>\n",
        "<div style = \"background-image: url('https://algorithmai.io/static/media/logo.665798c4.png');background-repeat: no-repeat; background-position: right; background-size: 220px 40px; margin: 20px 200px 20px 20px; padding : 5px 10px 5px 5px;\">\n",
        "    Copyright(c) 2019 by Public AI. All rights reserved.<br>\n",
        "    Writen by PAI, SeonYoul Choi ( Best10@publicai.co.kr )  last updated on 2019/02/21\n",
        "</div>\n",
        "<hr>"
      ],
      "execution_count": 15,
      "outputs": [
        {
          "output_type": "display_data",
          "data": {
            "text/html": [
              "\n",
              "<hr>\n",
              "<div style = \"background-image: url('https://algorithmai.io/static/media/logo.665798c4.png');background-repeat: no-repeat; background-position: right; background-size: 220px 40px; margin: 20px 200px 20px 20px; padding : 5px 10px 5px 5px;\">\n",
              "    Copyright(c) 2019 by Public AI. All rights reserved.<br>\n",
              "    Writen by PAI, SeonYoul Choi ( Best10@publicai.co.kr )  last updated on 2019/02/21\n",
              "</div>\n",
              "<hr>"
            ],
            "text/plain": [
              "<IPython.core.display.HTML object>"
            ]
          },
          "metadata": {
            "tags": []
          }
        }
      ]
    },
    {
      "metadata": {
        "colab_type": "code",
        "id": "3Ooo44y-vjQv",
        "colab": {
          "base_uri": "https://localhost:8080/",
          "height": 119
        },
        "outputId": "6236b75b-1446-446a-91a2-85680dcb86d8"
      },
      "cell_type": "code",
      "source": [
        "#@title\n",
        "%%html\n",
        "\n",
        "<hr>\n",
        "<div style = \"background-image: url('https://algorithmai.io/static/media/logo.665798c4.png'); background-repeat: no-repeat; background-position: right; background-size: 220px 40px; margin: 20px 200px 20px 20px; padding : 5px 10px 5px 5px;\">\n",
        "    Copyright(c) 2019 by Public AI. All rights reserved.<br>\n",
        "    Writen by PAI, SeonYoul Choi ( Best10@publicai.co.kr )  last updated on 2019/02/21\n",
        "</div>\n",
        "<hr>"
      ],
      "execution_count": 16,
      "outputs": [
        {
          "output_type": "display_data",
          "data": {
            "text/html": [
              "\n",
              "<hr>\n",
              "<div style = \"background-image: url('https://algorithmai.io/static/media/logo.665798c4.png');background-repeat: no-repeat; background-position: right; background-size: 220px 40px; margin: 20px 200px 20px 20px; padding : 5px 10px 5px 5px;\">\n",
              "    Copyright(c) 2019 by Public AI. All rights reserved.<br>\n",
              "    Writen by PAI, SeonYoul Choi ( Best10@publicai.co.kr )  last updated on 2019/02/21\n",
              "</div>\n",
              "<hr>"
            ],
            "text/plain": [
              "<IPython.core.display.HTML object>"
            ]
          },
          "metadata": {
            "tags": []
          }
        }
      ]
    },
    {
      "metadata": {
        "id": "hQSwlyX9vkKC",
        "colab_type": "text"
      },
      "cell_type": "markdown",
      "source": [
        "<hr>\n",
        "<div style = \"background-image: url('https://algorithmai.io/static/media/logo.665798c4.png');background-repeat: no-repeat; background-position: right; background-size: 220px 40px; margin: 20px 200px 20px 20px; padding : 5px 10px 5px 5px;\">\n",
        "    Copyright(c) 2019 by Public AI. All rights reserved.<br>\n",
        "    Writen by PAI, SeonYoul Choi ( Best10@publicai.co.kr )  last updated on 2019/02/21\n",
        "</div>\n",
        "<hr>"
      ]
    },
    {
      "metadata": {
        "id": "qbdUZFJ4w8LQ",
        "colab_type": "text"
      },
      "cell_type": "markdown",
      "source": [
        "<h1> 원래 github에서는 Ipython 파일에서 markdown cell 내에 html 태그를 달아도 인식을 못하는건가? 하...</h1>\n",
        "\n",
        "CSS 만 안되는 거였나?\n",
        "\n",
        "<h1 style = \"background-color : rgba(0, 0, 0, 0.05); border:0.5px solid; padding : 20px;\"> 되나 안되나 한번 보자 </h1>\n",
        "\n",
        "<h1 style = \"background-color : rgb(41, 41, 41);\"> 되나 안되나 한번 보자 </h1>"
      ]
    },
    {
      "metadata": {
        "id": "COCCUjY-xGlo",
        "colab_type": "text"
      },
      "cell_type": "markdown",
      "source": [
        "-[ ] 이것도 되나"
      ]
    },
    {
      "metadata": {
        "id": "DxtAwaDfHnlA",
        "colab_type": "text"
      },
      "cell_type": "markdown",
      "source": [
        "- [x] Finish my changes\n",
        "- [ ] Push my commits to GitHub\n",
        "- [ ] Open a pull request"
      ]
    },
    {
      "metadata": {
        "id": "TNVmn2OYHy__",
        "colab_type": "text"
      },
      "cell_type": "markdown",
      "source": [
        "# Upload data files\n",
        "<p class=\"lead\">This <a href=\"https://jupyter.org/\">Jupyter notebook</a>\n",
        "shows how to upload data files to be converted\n",
        "to [Photon-HDF5](http://photon-hdf5.org) format. </p>\n",
        "\n",
        "<i>Please send feedback and report any problems to the \n",
        "[Photon-HDF5 google group](https://groups.google.com/forum/#!forum/photon-hdf5).</i>\n",
        "\n",
        "<br>\n",
        "<div class=\"alert alert-warning\">\n",
        "<b>NOTE</b> Uploading data files is only necessary when running the notebook online.\n",
        "</div>"
      ]
    },
    {
      "metadata": {
        "id": "PgbHgHKyIcvf",
        "colab_type": "code",
        "colab": {}
      },
      "cell_type": "code",
      "source": [
        ""
      ],
      "execution_count": 0,
      "outputs": []
    }
  ]
}